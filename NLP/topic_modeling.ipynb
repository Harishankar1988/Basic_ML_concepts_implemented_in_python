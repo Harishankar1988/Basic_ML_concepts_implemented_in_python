{
  "nbformat": 4,
  "nbformat_minor": 0,
  "metadata": {
    "colab": {
      "name": "topic_modeling",
      "provenance": [],
      "collapsed_sections": []
    },
    "kernelspec": {
      "name": "python3",
      "display_name": "Python 3"
    }
  },
  "cells": [
    {
      "cell_type": "code",
      "metadata": {
        "id": "oolBKrmUS8mb",
        "colab_type": "code",
        "colab": {}
      },
      "source": [
        "#This is a dummy topic modeling project using sklearn. Algorithm implemeneted are - LSA, NMF and LDA.\n",
        "\n",
        "#Apart from NMF rest parts are copied from sklearn website\n",
        "#This has been originally authored by \n",
        "#Olivier Grisel <olivier.grisel@ensta.org>, Lars Buitinck and Chyi-Kwei Yau <chyikwei.yau@gmail.com>\n",
        "\n",
        "from time import time\n",
        "\n",
        "from sklearn.feature_extraction.text import TfidfVectorizer, CountVectorizer\n",
        "from sklearn.decomposition import NMF, LatentDirichletAllocation, TruncatedSVD\n",
        "from sklearn.datasets import fetch_20newsgroups\n",
        "\n",
        "import pandas as pd"
      ],
      "execution_count": 1,
      "outputs": []
    },
    {
      "cell_type": "code",
      "metadata": {
        "id": "BbZHuS7UUhDg",
        "colab_type": "code",
        "colab": {}
      },
      "source": [
        "n_samples = 2000\n",
        "n_features = 1000\n",
        "n_components = 10\n",
        "n_top_words = 20"
      ],
      "execution_count": 2,
      "outputs": []
    },
    {
      "cell_type": "code",
      "metadata": {
        "id": "PPbahhHDUmil",
        "colab_type": "code",
        "colab": {}
      },
      "source": [
        "def print_top_words(model, feature_names, n_top_words, vector):\n",
        "    for topic_idx, topic in enumerate(model.components_):\n",
        "        message = \"Topic #%d: \" % topic_idx\n",
        "        message += \" \".join([feature_names[i]\n",
        "                             for i in topic.argsort()[:-n_top_words - 1:-1]])\n",
        "        print(message)\n",
        "    docsVStopics = model.transform(vector)\n",
        "    docsVStopics = pd.DataFrame(docsVStopics, columns=[\"Topic\"+str(i+1) for i in range(n_components)])\n",
        "    print(\"Created a (%dx%d) document-topic matrix.\" % (docsVStopics.shape[0], docsVStopics.shape[1]))\n",
        "    display(docsVStopics.head())\n",
        "    most_likely_topics = docsVStopics.idxmax(axis=1)\n",
        "    display(most_likely_topics.groupby(most_likely_topics).count())"
      ],
      "execution_count": 3,
      "outputs": []
    },
    {
      "cell_type": "code",
      "metadata": {
        "id": "H5Bkky8bU2BV",
        "colab_type": "code",
        "colab": {
          "base_uri": "https://localhost:8080/",
          "height": 51
        },
        "outputId": "ebdb83c4-fcd7-4424-c1b5-afc183e9fb8d"
      },
      "source": [
        "# Load the 20 newsgroups dataset and vectorize it. We use a few heuristics\n",
        "# to filter out useless terms early on: the posts are stripped of headers,\n",
        "# footers and quoted replies, and common English words, words occurring in\n",
        "# only one document or in at least 95% of the documents are removed.\n",
        "\n",
        "print(\"Loading dataset...\")\n",
        "t0 = time()\n",
        "data, _ = fetch_20newsgroups(shuffle=True, random_state=1,\n",
        "                             remove=('headers', 'footers', 'quotes'),\n",
        "                             return_X_y=True)\n",
        "data_samples = data[:n_samples]\n",
        "print(\"done in %0.3fs.\" % (time() - t0))"
      ],
      "execution_count": 4,
      "outputs": [
        {
          "output_type": "stream",
          "text": [
            "Loading dataset...\n",
            "done in 1.412s.\n"
          ],
          "name": "stdout"
        }
      ]
    },
    {
      "cell_type": "code",
      "metadata": {
        "id": "5Y0dEcKmU_qM",
        "colab_type": "code",
        "colab": {
          "base_uri": "https://localhost:8080/",
          "height": 102
        },
        "outputId": "b6d241db-d6bf-4c1a-c465-eab94d7b1459"
      },
      "source": [
        "# Use tf-idf features for NMF.\n",
        "print(\"Extracting tf-idf features for NMF...\")\n",
        "tfidf_vectorizer = TfidfVectorizer(max_df=0.95, min_df=2,\n",
        "                                   max_features=n_features,\n",
        "                                   stop_words='english')\n",
        "t0 = time()\n",
        "tfidf = tfidf_vectorizer.fit_transform(data_samples)\n",
        "print(\"done in %0.3fs.\" % (time() - t0))\n",
        "\n",
        "# Use tf (raw term count) features for LDA.\n",
        "print(\"Extracting tf features for LDA...\")\n",
        "tf_vectorizer = CountVectorizer(max_df=0.95, min_df=2,\n",
        "                                max_features=n_features,\n",
        "                                stop_words='english')\n",
        "t0 = time()\n",
        "tf = tf_vectorizer.fit_transform(data_samples)\n",
        "print(\"done in %0.3fs.\" % (time() - t0))\n",
        "print()"
      ],
      "execution_count": 5,
      "outputs": [
        {
          "output_type": "stream",
          "text": [
            "Extracting tf-idf features for NMF...\n",
            "done in 0.327s.\n",
            "Extracting tf features for LDA...\n",
            "done in 0.310s.\n",
            "\n"
          ],
          "name": "stdout"
        }
      ]
    },
    {
      "cell_type": "code",
      "metadata": {
        "id": "TDZhplpjVGxk",
        "colab_type": "code",
        "colab": {
          "base_uri": "https://localhost:8080/",
          "height": 646
        },
        "outputId": "585d3246-01f0-4cbc-bf64-fcc35bd41b64"
      },
      "source": [
        "# Fit the NMF model\n",
        "print(\"Fitting the NMF model (Frobenius norm) with tf-idf features, \"\n",
        "      \"n_samples=%d and n_features=%d...\"\n",
        "      % (n_samples, n_features))\n",
        "t0 = time()\n",
        "nmf = NMF(n_components=n_components, random_state=1,\n",
        "          alpha=.1, l1_ratio=.5).fit(tfidf)\n",
        "print(\"done in %0.3fs.\" % (time() - t0))\n",
        "\n",
        "print(\"\\nTopics in NMF model (Frobenius norm):\")\n",
        "tfidf_feature_names = tfidf_vectorizer.get_feature_names()\n",
        "print_top_words(nmf, tfidf_feature_names, n_top_words, tfidf)"
      ],
      "execution_count": 6,
      "outputs": [
        {
          "output_type": "stream",
          "text": [
            "Fitting the NMF model (Frobenius norm) with tf-idf features, n_samples=2000 and n_features=1000...\n",
            "done in 0.348s.\n",
            "\n",
            "Topics in NMF model (Frobenius norm):\n",
            "Topic #0: just people don think like know time good make way really say right ve want did ll new use years\n",
            "Topic #1: windows use dos using window program os drivers application help software pc running ms screen files version card code work\n",
            "Topic #2: god jesus bible faith christian christ christians does heaven sin believe lord life church mary atheism belief human love religion\n",
            "Topic #3: thanks know does mail advance hi info interested email anybody looking card help like appreciated information send list video need\n",
            "Topic #4: car cars tires miles 00 new engine insurance price condition oil power speed good 000 brake year models used bought\n",
            "Topic #5: edu soon com send university internet mit ftp mail cc pub article information hope program mac email home contact blood\n",
            "Topic #6: file problem files format win sound ftp pub read save site help image available create copy running memory self version\n",
            "Topic #7: game team games year win play season players nhl runs goal hockey toronto division flyers player defense leafs bad teams\n",
            "Topic #8: drive drives hard disk floppy software card mac computer power scsi controller apple mb 00 pc rom sale problem internal\n",
            "Topic #9: key chip clipper keys encryption government public use secure enforcement phone nsa communications law encrypted security clinton used legal standard\n",
            "Created a (2000x10) document-topic matrix.\n"
          ],
          "name": "stdout"
        },
        {
          "output_type": "display_data",
          "data": {
            "text/html": [
              "<div>\n",
              "<style scoped>\n",
              "    .dataframe tbody tr th:only-of-type {\n",
              "        vertical-align: middle;\n",
              "    }\n",
              "\n",
              "    .dataframe tbody tr th {\n",
              "        vertical-align: top;\n",
              "    }\n",
              "\n",
              "    .dataframe thead th {\n",
              "        text-align: right;\n",
              "    }\n",
              "</style>\n",
              "<table border=\"1\" class=\"dataframe\">\n",
              "  <thead>\n",
              "    <tr style=\"text-align: right;\">\n",
              "      <th></th>\n",
              "      <th>Topic1</th>\n",
              "      <th>Topic2</th>\n",
              "      <th>Topic3</th>\n",
              "      <th>Topic4</th>\n",
              "      <th>Topic5</th>\n",
              "      <th>Topic6</th>\n",
              "      <th>Topic7</th>\n",
              "      <th>Topic8</th>\n",
              "      <th>Topic9</th>\n",
              "      <th>Topic10</th>\n",
              "    </tr>\n",
              "  </thead>\n",
              "  <tbody>\n",
              "    <tr>\n",
              "      <th>0</th>\n",
              "      <td>0.042416</td>\n",
              "      <td>0.0</td>\n",
              "      <td>0.000000</td>\n",
              "      <td>0.000000</td>\n",
              "      <td>0.0</td>\n",
              "      <td>0.000000</td>\n",
              "      <td>0.0</td>\n",
              "      <td>0.0</td>\n",
              "      <td>0.000000</td>\n",
              "      <td>0.000000</td>\n",
              "    </tr>\n",
              "    <tr>\n",
              "      <th>1</th>\n",
              "      <td>0.060045</td>\n",
              "      <td>0.0</td>\n",
              "      <td>0.014343</td>\n",
              "      <td>0.000000</td>\n",
              "      <td>0.0</td>\n",
              "      <td>0.000000</td>\n",
              "      <td>0.0</td>\n",
              "      <td>0.0</td>\n",
              "      <td>0.022147</td>\n",
              "      <td>0.000000</td>\n",
              "    </tr>\n",
              "    <tr>\n",
              "      <th>2</th>\n",
              "      <td>0.053466</td>\n",
              "      <td>0.0</td>\n",
              "      <td>0.000000</td>\n",
              "      <td>0.003553</td>\n",
              "      <td>0.0</td>\n",
              "      <td>0.000000</td>\n",
              "      <td>0.0</td>\n",
              "      <td>0.0</td>\n",
              "      <td>0.000000</td>\n",
              "      <td>0.000000</td>\n",
              "    </tr>\n",
              "    <tr>\n",
              "      <th>3</th>\n",
              "      <td>0.038737</td>\n",
              "      <td>0.0</td>\n",
              "      <td>0.000000</td>\n",
              "      <td>0.000000</td>\n",
              "      <td>0.0</td>\n",
              "      <td>0.000000</td>\n",
              "      <td>0.0</td>\n",
              "      <td>0.0</td>\n",
              "      <td>0.049669</td>\n",
              "      <td>0.136817</td>\n",
              "    </tr>\n",
              "    <tr>\n",
              "      <th>4</th>\n",
              "      <td>0.063264</td>\n",
              "      <td>0.0</td>\n",
              "      <td>0.000000</td>\n",
              "      <td>0.035055</td>\n",
              "      <td>0.0</td>\n",
              "      <td>0.071749</td>\n",
              "      <td>0.0</td>\n",
              "      <td>0.0</td>\n",
              "      <td>0.000000</td>\n",
              "      <td>0.000000</td>\n",
              "    </tr>\n",
              "  </tbody>\n",
              "</table>\n",
              "</div>"
            ],
            "text/plain": [
              "     Topic1  Topic2    Topic3    Topic4  ...  Topic7  Topic8    Topic9   Topic10\n",
              "0  0.042416     0.0  0.000000  0.000000  ...     0.0     0.0  0.000000  0.000000\n",
              "1  0.060045     0.0  0.014343  0.000000  ...     0.0     0.0  0.022147  0.000000\n",
              "2  0.053466     0.0  0.000000  0.003553  ...     0.0     0.0  0.000000  0.000000\n",
              "3  0.038737     0.0  0.000000  0.000000  ...     0.0     0.0  0.049669  0.136817\n",
              "4  0.063264     0.0  0.000000  0.035055  ...     0.0     0.0  0.000000  0.000000\n",
              "\n",
              "[5 rows x 10 columns]"
            ]
          },
          "metadata": {
            "tags": []
          }
        },
        {
          "output_type": "display_data",
          "data": {
            "text/plain": [
              "Topic1     1076\n",
              "Topic10      76\n",
              "Topic2      166\n",
              "Topic3       94\n",
              "Topic4      156\n",
              "Topic5       71\n",
              "Topic6      100\n",
              "Topic7       53\n",
              "Topic8      102\n",
              "Topic9      106\n",
              "dtype: int64"
            ]
          },
          "metadata": {
            "tags": []
          }
        }
      ]
    },
    {
      "cell_type": "code",
      "metadata": {
        "id": "HmOgIlosVPWc",
        "colab_type": "code",
        "colab": {
          "base_uri": "https://localhost:8080/",
          "height": 646
        },
        "outputId": "daaa11c5-81e5-4f4f-ebc4-36b6557b8b29"
      },
      "source": [
        "# Fit the NMF model\n",
        "print(\"Fitting the NMF model (generalized Kullback-Leibler divergence) with \"\n",
        "      \"tf-idf features, n_samples=%d and n_features=%d...\"\n",
        "      % (n_samples, n_features))\n",
        "t0 = time()\n",
        "nmf = NMF(n_components=n_components, random_state=1,\n",
        "          beta_loss='kullback-leibler', solver='mu', max_iter=1000, alpha=.1,\n",
        "          l1_ratio=.5).fit(tfidf)\n",
        "\n",
        "print(\"done in %0.3fs.\" % (time() - t0))\n",
        "\n",
        "print(\"\\nTopics in NMF model (generalized Kullback-Leibler divergence):\")\n",
        "\n",
        "\n",
        "tfidf_feature_names = tfidf_vectorizer.get_feature_names()\n",
        "print_top_words(nmf, tfidf_feature_names, n_top_words, tfidf)"
      ],
      "execution_count": 7,
      "outputs": [
        {
          "output_type": "stream",
          "text": [
            "Fitting the NMF model (generalized Kullback-Leibler divergence) with tf-idf features, n_samples=2000 and n_features=1000...\n",
            "done in 1.411s.\n",
            "\n",
            "Topics in NMF model (generalized Kullback-Leibler divergence):\n",
            "Topic #0: people don just like think did say time make know really right said things way ve course didn question probably\n",
            "Topic #1: windows help thanks using hi looking info video dos pc does anybody ftp appreciated mail know advance available use card\n",
            "Topic #2: god does jesus true book christian bible christians religion faith believe life church christ says know read exist lord people\n",
            "Topic #3: thanks know bike interested mail like new car edu heard just price list email hear want cars thing sounds reply\n",
            "Topic #4: 10 00 sale time power 12 new 15 year 30 offer condition 14 16 model 11 monitor 100 old 25\n",
            "Topic #5: space government number public data states earth security water research nasa general 1993 phone information science technology provide blood internet\n",
            "Topic #6: edu file com program soon try window problem remember files sun send library article mike wrong think code win manager\n",
            "Topic #7: game team year games play win season points world division won players nhl flyers toronto case cubs teams ll record\n",
            "Topic #8: drive think hard software disk drives apple computer mac need scsi card don problem read floppy post cable going ii\n",
            "Topic #9: use good just key chip got like ll way clipper doesn keys don better speed stuff want sure going need\n",
            "Created a (2000x10) document-topic matrix.\n"
          ],
          "name": "stdout"
        },
        {
          "output_type": "display_data",
          "data": {
            "text/html": [
              "<div>\n",
              "<style scoped>\n",
              "    .dataframe tbody tr th:only-of-type {\n",
              "        vertical-align: middle;\n",
              "    }\n",
              "\n",
              "    .dataframe tbody tr th {\n",
              "        vertical-align: top;\n",
              "    }\n",
              "\n",
              "    .dataframe thead th {\n",
              "        text-align: right;\n",
              "    }\n",
              "</style>\n",
              "<table border=\"1\" class=\"dataframe\">\n",
              "  <thead>\n",
              "    <tr style=\"text-align: right;\">\n",
              "      <th></th>\n",
              "      <th>Topic1</th>\n",
              "      <th>Topic2</th>\n",
              "      <th>Topic3</th>\n",
              "      <th>Topic4</th>\n",
              "      <th>Topic5</th>\n",
              "      <th>Topic6</th>\n",
              "      <th>Topic7</th>\n",
              "      <th>Topic8</th>\n",
              "      <th>Topic9</th>\n",
              "      <th>Topic10</th>\n",
              "    </tr>\n",
              "  </thead>\n",
              "  <tbody>\n",
              "    <tr>\n",
              "      <th>0</th>\n",
              "      <td>0.068317</td>\n",
              "      <td>1.095911e-24</td>\n",
              "      <td>2.602353e-02</td>\n",
              "      <td>5.739486e-07</td>\n",
              "      <td>9.944853e-11</td>\n",
              "      <td>1.664704e-06</td>\n",
              "      <td>6.042472e-03</td>\n",
              "      <td>0.000002</td>\n",
              "      <td>1.095998e-06</td>\n",
              "      <td>2.571219e-08</td>\n",
              "    </tr>\n",
              "    <tr>\n",
              "      <th>1</th>\n",
              "      <td>0.021188</td>\n",
              "      <td>3.484075e-17</td>\n",
              "      <td>5.043634e-02</td>\n",
              "      <td>5.761136e-02</td>\n",
              "      <td>1.006154e-13</td>\n",
              "      <td>2.120389e-37</td>\n",
              "      <td>2.240192e-02</td>\n",
              "      <td>0.000132</td>\n",
              "      <td>3.456290e-02</td>\n",
              "      <td>2.925620e-05</td>\n",
              "    </tr>\n",
              "    <tr>\n",
              "      <th>2</th>\n",
              "      <td>0.075670</td>\n",
              "      <td>3.654122e-12</td>\n",
              "      <td>1.283711e-16</td>\n",
              "      <td>2.012305e-10</td>\n",
              "      <td>4.847435e-17</td>\n",
              "      <td>1.206790e-02</td>\n",
              "      <td>7.051928e-24</td>\n",
              "      <td>0.010729</td>\n",
              "      <td>8.798645e-24</td>\n",
              "      <td>1.283280e-14</td>\n",
              "    </tr>\n",
              "    <tr>\n",
              "      <th>3</th>\n",
              "      <td>0.022773</td>\n",
              "      <td>3.356870e-03</td>\n",
              "      <td>7.426167e-11</td>\n",
              "      <td>6.134818e-03</td>\n",
              "      <td>4.084129e-07</td>\n",
              "      <td>4.853427e-02</td>\n",
              "      <td>1.665267e-16</td>\n",
              "      <td>0.019819</td>\n",
              "      <td>2.019029e-02</td>\n",
              "      <td>7.903332e-02</td>\n",
              "    </tr>\n",
              "    <tr>\n",
              "      <th>4</th>\n",
              "      <td>0.035811</td>\n",
              "      <td>1.200152e-10</td>\n",
              "      <td>1.183205e-04</td>\n",
              "      <td>4.551640e-02</td>\n",
              "      <td>2.372949e-17</td>\n",
              "      <td>4.309721e-11</td>\n",
              "      <td>4.210543e-02</td>\n",
              "      <td>0.001308</td>\n",
              "      <td>2.741609e-13</td>\n",
              "      <td>4.122818e-03</td>\n",
              "    </tr>\n",
              "  </tbody>\n",
              "</table>\n",
              "</div>"
            ],
            "text/plain": [
              "     Topic1        Topic2        Topic3  ...    Topic8        Topic9       Topic10\n",
              "0  0.068317  1.095911e-24  2.602353e-02  ...  0.000002  1.095998e-06  2.571219e-08\n",
              "1  0.021188  3.484075e-17  5.043634e-02  ...  0.000132  3.456290e-02  2.925620e-05\n",
              "2  0.075670  3.654122e-12  1.283711e-16  ...  0.010729  8.798645e-24  1.283280e-14\n",
              "3  0.022773  3.356870e-03  7.426167e-11  ...  0.019819  2.019029e-02  7.903332e-02\n",
              "4  0.035811  1.200152e-10  1.183205e-04  ...  0.001308  2.741609e-13  4.122818e-03\n",
              "\n",
              "[5 rows x 10 columns]"
            ]
          },
          "metadata": {
            "tags": []
          }
        },
        {
          "output_type": "display_data",
          "data": {
            "text/plain": [
              "Topic1     422\n",
              "Topic10    187\n",
              "Topic2     242\n",
              "Topic3     181\n",
              "Topic4     181\n",
              "Topic5     153\n",
              "Topic6     189\n",
              "Topic7     161\n",
              "Topic8     150\n",
              "Topic9     134\n",
              "dtype: int64"
            ]
          },
          "metadata": {
            "tags": []
          }
        }
      ]
    },
    {
      "cell_type": "code",
      "metadata": {
        "id": "W7CjYgwUVSyN",
        "colab_type": "code",
        "colab": {
          "base_uri": "https://localhost:8080/",
          "height": 595
        },
        "outputId": "41042191-d15e-4428-ddde-3eb443b14231"
      },
      "source": [
        "print(\"Fitting the LSA model with tf-idf features, \"\n",
        "      \"n_samples=%d and n_features=%d...\"\n",
        "      % (n_samples, n_features))\n",
        "\n",
        "svd = TruncatedSVD(n_components=n_components)\n",
        "lsa = svd.fit(tfidf)\n",
        "print_top_words(lsa, tfidf_feature_names, n_top_words, tfidf)"
      ],
      "execution_count": 8,
      "outputs": [
        {
          "output_type": "stream",
          "text": [
            "Fitting the LSA model with tf-idf features, n_samples=2000 and n_features=1000...\n",
            "Topic #0: just like don know people think does good use time new god way ve want make thanks need really say\n",
            "Topic #1: god people think just jesus don bible say law did government life believe christian faith christians said christ agree religion\n",
            "Topic #2: god does thanks jesus know bible windows file faith christian mail christians edu christ hi advance help ftp true info\n",
            "Topic #3: edu thanks know mail game car interested bike new com email send year team price like list soon games advance\n",
            "Topic #4: know key government chip thanks edu clipper encryption people don does keys public mail law advance rights com right information\n",
            "Topic #5: edu 00 key god com soon use 10 chip government university encryption keys data phone new sale send public internet\n",
            "Topic #6: edu file think windows game files win program team soon ftp don play window try games just dos com problem\n",
            "Topic #7: game key team year does games thanks chip looking win mail keys play clipper encryption space players season government god\n",
            "Topic #8: drive think people know problem drives year disk hard thanks software file don israel computer format win mac law number\n",
            "Topic #9: good think use game key god chip edu drive clipper team win encryption games better keys want year don doesn\n",
            "Created a (2000x10) document-topic matrix.\n"
          ],
          "name": "stdout"
        },
        {
          "output_type": "display_data",
          "data": {
            "text/html": [
              "<div>\n",
              "<style scoped>\n",
              "    .dataframe tbody tr th:only-of-type {\n",
              "        vertical-align: middle;\n",
              "    }\n",
              "\n",
              "    .dataframe tbody tr th {\n",
              "        vertical-align: top;\n",
              "    }\n",
              "\n",
              "    .dataframe thead th {\n",
              "        text-align: right;\n",
              "    }\n",
              "</style>\n",
              "<table border=\"1\" class=\"dataframe\">\n",
              "  <thead>\n",
              "    <tr style=\"text-align: right;\">\n",
              "      <th></th>\n",
              "      <th>Topic1</th>\n",
              "      <th>Topic2</th>\n",
              "      <th>Topic3</th>\n",
              "      <th>Topic4</th>\n",
              "      <th>Topic5</th>\n",
              "      <th>Topic6</th>\n",
              "      <th>Topic7</th>\n",
              "      <th>Topic8</th>\n",
              "      <th>Topic9</th>\n",
              "      <th>Topic10</th>\n",
              "    </tr>\n",
              "  </thead>\n",
              "  <tbody>\n",
              "    <tr>\n",
              "      <th>0</th>\n",
              "      <td>0.135844</td>\n",
              "      <td>0.071581</td>\n",
              "      <td>-0.024119</td>\n",
              "      <td>-0.059449</td>\n",
              "      <td>0.027625</td>\n",
              "      <td>0.010805</td>\n",
              "      <td>0.023009</td>\n",
              "      <td>-0.012641</td>\n",
              "      <td>0.044563</td>\n",
              "      <td>-0.033628</td>\n",
              "    </tr>\n",
              "    <tr>\n",
              "      <th>1</th>\n",
              "      <td>0.214571</td>\n",
              "      <td>0.050947</td>\n",
              "      <td>0.025110</td>\n",
              "      <td>0.041518</td>\n",
              "      <td>-0.019502</td>\n",
              "      <td>-0.028281</td>\n",
              "      <td>0.001472</td>\n",
              "      <td>-0.068504</td>\n",
              "      <td>0.033101</td>\n",
              "      <td>0.006057</td>\n",
              "    </tr>\n",
              "    <tr>\n",
              "      <th>2</th>\n",
              "      <td>0.168457</td>\n",
              "      <td>0.054780</td>\n",
              "      <td>-0.026935</td>\n",
              "      <td>0.000432</td>\n",
              "      <td>0.075655</td>\n",
              "      <td>-0.031977</td>\n",
              "      <td>0.004912</td>\n",
              "      <td>-0.007174</td>\n",
              "      <td>0.064807</td>\n",
              "      <td>-0.110913</td>\n",
              "    </tr>\n",
              "    <tr>\n",
              "      <th>3</th>\n",
              "      <td>0.217901</td>\n",
              "      <td>-0.027692</td>\n",
              "      <td>-0.122089</td>\n",
              "      <td>-0.133785</td>\n",
              "      <td>0.060776</td>\n",
              "      <td>0.108518</td>\n",
              "      <td>-0.135529</td>\n",
              "      <td>0.094964</td>\n",
              "      <td>0.000063</td>\n",
              "      <td>0.125857</td>\n",
              "    </tr>\n",
              "    <tr>\n",
              "      <th>4</th>\n",
              "      <td>0.258675</td>\n",
              "      <td>-0.028494</td>\n",
              "      <td>0.055580</td>\n",
              "      <td>0.166974</td>\n",
              "      <td>0.074547</td>\n",
              "      <td>0.065404</td>\n",
              "      <td>0.055637</td>\n",
              "      <td>-0.017171</td>\n",
              "      <td>-0.054052</td>\n",
              "      <td>0.058150</td>\n",
              "    </tr>\n",
              "  </tbody>\n",
              "</table>\n",
              "</div>"
            ],
            "text/plain": [
              "     Topic1    Topic2    Topic3  ...    Topic8    Topic9   Topic10\n",
              "0  0.135844  0.071581 -0.024119  ... -0.012641  0.044563 -0.033628\n",
              "1  0.214571  0.050947  0.025110  ... -0.068504  0.033101  0.006057\n",
              "2  0.168457  0.054780 -0.026935  ... -0.007174  0.064807 -0.110913\n",
              "3  0.217901 -0.027692 -0.122089  ...  0.094964  0.000063  0.125857\n",
              "4  0.258675 -0.028494  0.055580  ... -0.017171 -0.054052  0.058150\n",
              "\n",
              "[5 rows x 10 columns]"
            ]
          },
          "metadata": {
            "tags": []
          }
        },
        {
          "output_type": "display_data",
          "data": {
            "text/plain": [
              "Topic1     1588\n",
              "Topic10      19\n",
              "Topic2        4\n",
              "Topic3       72\n",
              "Topic4       50\n",
              "Topic5       34\n",
              "Topic6       85\n",
              "Topic7       47\n",
              "Topic8       62\n",
              "Topic9       39\n",
              "dtype: int64"
            ]
          },
          "metadata": {
            "tags": []
          }
        }
      ]
    },
    {
      "cell_type": "code",
      "metadata": {
        "id": "_mGO3oOvVXAe",
        "colab_type": "code",
        "colab": {
          "base_uri": "https://localhost:8080/",
          "height": 646
        },
        "outputId": "bbc23121-be5d-4431-b117-8be749152d44"
      },
      "source": [
        "print(\"Fitting LDA models with tf features, \"\n",
        "      \"n_samples=%d and n_features=%d...\"\n",
        "      % (n_samples, n_features))\n",
        "lda = LatentDirichletAllocation(n_components=n_components, max_iter=5,\n",
        "                                learning_method='online',\n",
        "                                learning_offset=50.,\n",
        "                                random_state=0)\n",
        "t0 = time()\n",
        "lda.fit(tf)\n",
        "print(\"done in %0.3fs.\" % (time() - t0))\n",
        "\n",
        "print(\"\\nTopics in LDA model:\")\n",
        "tf_feature_names = tf_vectorizer.get_feature_names()\n",
        "print_top_words(lda, tf_feature_names, n_top_words, tf)"
      ],
      "execution_count": 9,
      "outputs": [
        {
          "output_type": "stream",
          "text": [
            "Fitting LDA models with tf features, n_samples=2000 and n_features=1000...\n",
            "done in 3.887s.\n",
            "\n",
            "Topics in LDA model:\n",
            "Topic #0: edu com mail send graphics ftp pub available contact university list faq ca information cs 1993 program sun uk mit\n",
            "Topic #1: don like just know think ve way use right good going make sure ll point got need really time doesn\n",
            "Topic #2: christian think atheism faith pittsburgh new bible radio games alt lot just religion like book read play time subject believe\n",
            "Topic #3: drive disk windows thanks use card drives hard version pc software file using scsi help does new dos controller 16\n",
            "Topic #4: hiv health aids disease april medical care research 1993 light information study national service test led 10 page new drug\n",
            "Topic #5: god people does just good don jesus say israel way life know true fact time law want believe make think\n",
            "Topic #6: 55 10 11 18 15 team game 19 period play 23 12 13 flyers 20 25 22 17 24 16\n",
            "Topic #7: car year just cars new engine like bike good oil insurance better tires 000 thing speed model brake driving performance\n",
            "Topic #8: people said did just didn know time like went think children came come don took years say dead told started\n",
            "Topic #9: key space law government public use encryption earth section security moon probe enforcement keys states lunar military crime surface technology\n",
            "Created a (2000x10) document-topic matrix.\n"
          ],
          "name": "stdout"
        },
        {
          "output_type": "display_data",
          "data": {
            "text/html": [
              "<div>\n",
              "<style scoped>\n",
              "    .dataframe tbody tr th:only-of-type {\n",
              "        vertical-align: middle;\n",
              "    }\n",
              "\n",
              "    .dataframe tbody tr th {\n",
              "        vertical-align: top;\n",
              "    }\n",
              "\n",
              "    .dataframe thead th {\n",
              "        text-align: right;\n",
              "    }\n",
              "</style>\n",
              "<table border=\"1\" class=\"dataframe\">\n",
              "  <thead>\n",
              "    <tr style=\"text-align: right;\">\n",
              "      <th></th>\n",
              "      <th>Topic1</th>\n",
              "      <th>Topic2</th>\n",
              "      <th>Topic3</th>\n",
              "      <th>Topic4</th>\n",
              "      <th>Topic5</th>\n",
              "      <th>Topic6</th>\n",
              "      <th>Topic7</th>\n",
              "      <th>Topic8</th>\n",
              "      <th>Topic9</th>\n",
              "      <th>Topic10</th>\n",
              "    </tr>\n",
              "  </thead>\n",
              "  <tbody>\n",
              "    <tr>\n",
              "      <th>0</th>\n",
              "      <td>0.003449</td>\n",
              "      <td>0.628598</td>\n",
              "      <td>0.003449</td>\n",
              "      <td>0.003449</td>\n",
              "      <td>0.003449</td>\n",
              "      <td>0.343811</td>\n",
              "      <td>0.003448</td>\n",
              "      <td>0.003449</td>\n",
              "      <td>0.003449</td>\n",
              "      <td>0.003449</td>\n",
              "    </tr>\n",
              "    <tr>\n",
              "      <th>1</th>\n",
              "      <td>0.003334</td>\n",
              "      <td>0.003335</td>\n",
              "      <td>0.969994</td>\n",
              "      <td>0.003334</td>\n",
              "      <td>0.003333</td>\n",
              "      <td>0.003334</td>\n",
              "      <td>0.003334</td>\n",
              "      <td>0.003334</td>\n",
              "      <td>0.003334</td>\n",
              "      <td>0.003334</td>\n",
              "    </tr>\n",
              "    <tr>\n",
              "      <th>2</th>\n",
              "      <td>0.003031</td>\n",
              "      <td>0.671062</td>\n",
              "      <td>0.003031</td>\n",
              "      <td>0.003031</td>\n",
              "      <td>0.058081</td>\n",
              "      <td>0.249643</td>\n",
              "      <td>0.003030</td>\n",
              "      <td>0.003031</td>\n",
              "      <td>0.003031</td>\n",
              "      <td>0.003031</td>\n",
              "    </tr>\n",
              "    <tr>\n",
              "      <th>3</th>\n",
              "      <td>0.002942</td>\n",
              "      <td>0.905849</td>\n",
              "      <td>0.002942</td>\n",
              "      <td>0.070616</td>\n",
              "      <td>0.002941</td>\n",
              "      <td>0.002942</td>\n",
              "      <td>0.002941</td>\n",
              "      <td>0.002942</td>\n",
              "      <td>0.002942</td>\n",
              "      <td>0.002943</td>\n",
              "    </tr>\n",
              "    <tr>\n",
              "      <th>4</th>\n",
              "      <td>0.122198</td>\n",
              "      <td>0.585805</td>\n",
              "      <td>0.005557</td>\n",
              "      <td>0.005556</td>\n",
              "      <td>0.005556</td>\n",
              "      <td>0.253103</td>\n",
              "      <td>0.005556</td>\n",
              "      <td>0.005557</td>\n",
              "      <td>0.005557</td>\n",
              "      <td>0.005556</td>\n",
              "    </tr>\n",
              "  </tbody>\n",
              "</table>\n",
              "</div>"
            ],
            "text/plain": [
              "     Topic1    Topic2    Topic3  ...    Topic8    Topic9   Topic10\n",
              "0  0.003449  0.628598  0.003449  ...  0.003449  0.003449  0.003449\n",
              "1  0.003334  0.003335  0.969994  ...  0.003334  0.003334  0.003334\n",
              "2  0.003031  0.671062  0.003031  ...  0.003031  0.003031  0.003031\n",
              "3  0.002942  0.905849  0.002942  ...  0.002942  0.002942  0.002943\n",
              "4  0.122198  0.585805  0.005557  ...  0.005557  0.005557  0.005556\n",
              "\n",
              "[5 rows x 10 columns]"
            ]
          },
          "metadata": {
            "tags": []
          }
        },
        {
          "output_type": "display_data",
          "data": {
            "text/plain": [
              "Topic1     180\n",
              "Topic10     88\n",
              "Topic2     557\n",
              "Topic3      68\n",
              "Topic4     407\n",
              "Topic5      23\n",
              "Topic6     272\n",
              "Topic7      43\n",
              "Topic8     161\n",
              "Topic9     201\n",
              "dtype: int64"
            ]
          },
          "metadata": {
            "tags": []
          }
        }
      ]
    }
  ]
}